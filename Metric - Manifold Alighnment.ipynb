{
 "cells": [
  {
   "cell_type": "code",
   "execution_count": 1,
   "metadata": {
    "collapsed": false
   },
   "outputs": [],
   "source": [
    "import numpy as np\n",
    "import pandas as pd\n",
    "import scipy.spatial.distance as dist"
   ]
  },
  {
   "cell_type": "markdown",
   "metadata": {},
   "source": [
    "### Data Loading + Processing"
   ]
  },
  {
   "cell_type": "markdown",
   "metadata": {},
   "source": [
    "PBMC immune cells from Seurat/CCA alignment"
   ]
  },
  {
   "cell_type": "code",
   "execution_count": 2,
   "metadata": {
    "collapsed": false
   },
   "outputs": [],
   "source": [
    "dat = pd.read_csv('immune_data.csv')"
   ]
  },
  {
   "cell_type": "code",
   "execution_count": 3,
   "metadata": {
    "collapsed": false
   },
   "outputs": [],
   "source": [
    "meta = pd.read_csv('immune_meta.csv')"
   ]
  },
  {
   "cell_type": "code",
   "execution_count": 4,
   "metadata": {
    "collapsed": false
   },
   "outputs": [],
   "source": [
    "dat1 = meta['x'] == 'IMMUNE_CTRL'\n",
    "dat2 = meta['x'] == 'IMMUNE_STIM'"
   ]
  },
  {
   "cell_type": "code",
   "execution_count": 5,
   "metadata": {
    "collapsed": false
   },
   "outputs": [],
   "source": [
    "dat_array = dat.values[:,1:]"
   ]
  },
  {
   "cell_type": "code",
   "execution_count": 6,
   "metadata": {
    "collapsed": false
   },
   "outputs": [
    {
     "name": "stdout",
     "output_type": "stream",
     "text": [
      "(14053, 14039)\n"
     ]
    }
   ],
   "source": [
    "print(dat_array.shape)"
   ]
  },
  {
   "cell_type": "code",
   "execution_count": 7,
   "metadata": {
    "collapsed": false
   },
   "outputs": [
    {
     "name": "stdout",
     "output_type": "stream",
     "text": [
      "(14053, 6573)\n"
     ]
    }
   ],
   "source": [
    "ctrl = dat_array[:,dat1.values]\n",
    "print(ctrl.shape)"
   ]
  },
  {
   "cell_type": "code",
   "execution_count": 8,
   "metadata": {
    "collapsed": false
   },
   "outputs": [
    {
     "name": "stdout",
     "output_type": "stream",
     "text": [
      "(14053, 7466)\n"
     ]
    }
   ],
   "source": [
    "stim = dat_array[:,dat2.values]\n",
    "print(stim.shape)"
   ]
  },
  {
   "cell_type": "code",
   "execution_count": 9,
   "metadata": {
    "collapsed": false
   },
   "outputs": [
    {
     "data": {
      "text/html": [
       "<div>\n",
       "<table border=\"1\" class=\"dataframe\">\n",
       "  <thead>\n",
       "    <tr style=\"text-align: right;\">\n",
       "      <th></th>\n",
       "      <th>Unnamed: 0</th>\n",
       "      <th>AAACATACATTTCC.1</th>\n",
       "      <th>AAACATACCAGAAA.1</th>\n",
       "      <th>AAACATACCTCGCT.1</th>\n",
       "      <th>AAACATACCTGGTA.1</th>\n",
       "      <th>AAACATACGATGAA.1</th>\n",
       "      <th>AAACATACGGCATT.1</th>\n",
       "      <th>AAACATACTGCGTA.1</th>\n",
       "      <th>AAACATACTGCTGA.1</th>\n",
       "      <th>AAACATTGAGTGTC.1</th>\n",
       "      <th>...</th>\n",
       "      <th>TTTGACTGCCCTAC.1</th>\n",
       "      <th>TTTGACTGCTACCC.1</th>\n",
       "      <th>TTTGACTGCTTGGA.1</th>\n",
       "      <th>TTTGACTGGCGAAG.1</th>\n",
       "      <th>TTTGACTGGGTACT.1</th>\n",
       "      <th>TTTGCATGAACGAA.1</th>\n",
       "      <th>TTTGCATGACGTAC.1</th>\n",
       "      <th>TTTGCATGCCTGTC.1</th>\n",
       "      <th>TTTGCATGCTAAGC.1</th>\n",
       "      <th>TTTGCATGGGACGA.1</th>\n",
       "    </tr>\n",
       "  </thead>\n",
       "  <tbody>\n",
       "    <tr>\n",
       "      <th>0</th>\n",
       "      <td>AL627309.1</td>\n",
       "      <td>0.0</td>\n",
       "      <td>0.0</td>\n",
       "      <td>0.0</td>\n",
       "      <td>0.0</td>\n",
       "      <td>0.0</td>\n",
       "      <td>0.0</td>\n",
       "      <td>0.0</td>\n",
       "      <td>0.0</td>\n",
       "      <td>0.0</td>\n",
       "      <td>...</td>\n",
       "      <td>0.0</td>\n",
       "      <td>0.0</td>\n",
       "      <td>0.0</td>\n",
       "      <td>0.0</td>\n",
       "      <td>0.0</td>\n",
       "      <td>0.0</td>\n",
       "      <td>0.0</td>\n",
       "      <td>0.0</td>\n",
       "      <td>0.0</td>\n",
       "      <td>0.0</td>\n",
       "    </tr>\n",
       "    <tr>\n",
       "      <th>1</th>\n",
       "      <td>RP11-206L10.2</td>\n",
       "      <td>0.0</td>\n",
       "      <td>0.0</td>\n",
       "      <td>0.0</td>\n",
       "      <td>0.0</td>\n",
       "      <td>0.0</td>\n",
       "      <td>0.0</td>\n",
       "      <td>0.0</td>\n",
       "      <td>0.0</td>\n",
       "      <td>0.0</td>\n",
       "      <td>...</td>\n",
       "      <td>0.0</td>\n",
       "      <td>0.0</td>\n",
       "      <td>0.0</td>\n",
       "      <td>0.0</td>\n",
       "      <td>0.0</td>\n",
       "      <td>0.0</td>\n",
       "      <td>0.0</td>\n",
       "      <td>0.0</td>\n",
       "      <td>0.0</td>\n",
       "      <td>0.0</td>\n",
       "    </tr>\n",
       "    <tr>\n",
       "      <th>2</th>\n",
       "      <td>LINC00115</td>\n",
       "      <td>0.0</td>\n",
       "      <td>0.0</td>\n",
       "      <td>0.0</td>\n",
       "      <td>0.0</td>\n",
       "      <td>0.0</td>\n",
       "      <td>0.0</td>\n",
       "      <td>0.0</td>\n",
       "      <td>0.0</td>\n",
       "      <td>0.0</td>\n",
       "      <td>...</td>\n",
       "      <td>0.0</td>\n",
       "      <td>0.0</td>\n",
       "      <td>0.0</td>\n",
       "      <td>0.0</td>\n",
       "      <td>0.0</td>\n",
       "      <td>0.0</td>\n",
       "      <td>0.0</td>\n",
       "      <td>0.0</td>\n",
       "      <td>0.0</td>\n",
       "      <td>0.0</td>\n",
       "    </tr>\n",
       "    <tr>\n",
       "      <th>3</th>\n",
       "      <td>NOC2L</td>\n",
       "      <td>0.0</td>\n",
       "      <td>0.0</td>\n",
       "      <td>0.0</td>\n",
       "      <td>0.0</td>\n",
       "      <td>0.0</td>\n",
       "      <td>0.0</td>\n",
       "      <td>0.0</td>\n",
       "      <td>0.0</td>\n",
       "      <td>0.0</td>\n",
       "      <td>...</td>\n",
       "      <td>0.0</td>\n",
       "      <td>0.0</td>\n",
       "      <td>0.0</td>\n",
       "      <td>0.0</td>\n",
       "      <td>0.0</td>\n",
       "      <td>0.0</td>\n",
       "      <td>0.0</td>\n",
       "      <td>0.0</td>\n",
       "      <td>0.0</td>\n",
       "      <td>0.0</td>\n",
       "    </tr>\n",
       "    <tr>\n",
       "      <th>4</th>\n",
       "      <td>KLHL17</td>\n",
       "      <td>0.0</td>\n",
       "      <td>0.0</td>\n",
       "      <td>0.0</td>\n",
       "      <td>0.0</td>\n",
       "      <td>0.0</td>\n",
       "      <td>0.0</td>\n",
       "      <td>0.0</td>\n",
       "      <td>0.0</td>\n",
       "      <td>0.0</td>\n",
       "      <td>...</td>\n",
       "      <td>0.0</td>\n",
       "      <td>0.0</td>\n",
       "      <td>0.0</td>\n",
       "      <td>0.0</td>\n",
       "      <td>0.0</td>\n",
       "      <td>0.0</td>\n",
       "      <td>0.0</td>\n",
       "      <td>0.0</td>\n",
       "      <td>0.0</td>\n",
       "      <td>0.0</td>\n",
       "    </tr>\n",
       "  </tbody>\n",
       "</table>\n",
       "<p>5 rows × 14040 columns</p>\n",
       "</div>"
      ],
      "text/plain": [
       "      Unnamed: 0  AAACATACATTTCC.1  AAACATACCAGAAA.1  AAACATACCTCGCT.1  \\\n",
       "0     AL627309.1               0.0               0.0               0.0   \n",
       "1  RP11-206L10.2               0.0               0.0               0.0   \n",
       "2      LINC00115               0.0               0.0               0.0   \n",
       "3          NOC2L               0.0               0.0               0.0   \n",
       "4         KLHL17               0.0               0.0               0.0   \n",
       "\n",
       "   AAACATACCTGGTA.1  AAACATACGATGAA.1  AAACATACGGCATT.1  AAACATACTGCGTA.1  \\\n",
       "0               0.0               0.0               0.0               0.0   \n",
       "1               0.0               0.0               0.0               0.0   \n",
       "2               0.0               0.0               0.0               0.0   \n",
       "3               0.0               0.0               0.0               0.0   \n",
       "4               0.0               0.0               0.0               0.0   \n",
       "\n",
       "   AAACATACTGCTGA.1  AAACATTGAGTGTC.1        ...         TTTGACTGCCCTAC.1  \\\n",
       "0               0.0               0.0        ...                      0.0   \n",
       "1               0.0               0.0        ...                      0.0   \n",
       "2               0.0               0.0        ...                      0.0   \n",
       "3               0.0               0.0        ...                      0.0   \n",
       "4               0.0               0.0        ...                      0.0   \n",
       "\n",
       "   TTTGACTGCTACCC.1  TTTGACTGCTTGGA.1  TTTGACTGGCGAAG.1  TTTGACTGGGTACT.1  \\\n",
       "0               0.0               0.0               0.0               0.0   \n",
       "1               0.0               0.0               0.0               0.0   \n",
       "2               0.0               0.0               0.0               0.0   \n",
       "3               0.0               0.0               0.0               0.0   \n",
       "4               0.0               0.0               0.0               0.0   \n",
       "\n",
       "   TTTGCATGAACGAA.1  TTTGCATGACGTAC.1  TTTGCATGCCTGTC.1  TTTGCATGCTAAGC.1  \\\n",
       "0               0.0               0.0               0.0               0.0   \n",
       "1               0.0               0.0               0.0               0.0   \n",
       "2               0.0               0.0               0.0               0.0   \n",
       "3               0.0               0.0               0.0               0.0   \n",
       "4               0.0               0.0               0.0               0.0   \n",
       "\n",
       "   TTTGCATGGGACGA.1  \n",
       "0               0.0  \n",
       "1               0.0  \n",
       "2               0.0  \n",
       "3               0.0  \n",
       "4               0.0  \n",
       "\n",
       "[5 rows x 14040 columns]"
      ]
     },
     "execution_count": 9,
     "metadata": {},
     "output_type": "execute_result"
    }
   ],
   "source": [
    "dat_pre = dat = pd.read_csv('immune_pre.csv')\n",
    "dat_pre.head()"
   ]
  },
  {
   "cell_type": "code",
   "execution_count": 10,
   "metadata": {
    "collapsed": false
   },
   "outputs": [
    {
     "name": "stdout",
     "output_type": "stream",
     "text": [
      "(14053, 6573)\n"
     ]
    }
   ],
   "source": [
    "dat_pre_array = dat_pre.values[:,1:]\n",
    "ctrl_pre = dat_pre_array[:,dat1.values]\n",
    "stim_pre = dat_pre_array[:,dat2.values]\n",
    "print(ctrl_pre.shape)"
   ]
  },
  {
   "cell_type": "markdown",
   "metadata": {},
   "source": [
    "### Topography Preservation"
   ]
  },
  {
   "cell_type": "code",
   "execution_count": 21,
   "metadata": {
    "collapsed": true
   },
   "outputs": [],
   "source": [
    "def markov_matrix(dat,length):\n",
    "    x = dist.cdist(dat,dat)/length\n",
    "    y = np.exp(x) - np.eye(len(x))\n",
    "    row_sum = np.sum(x,axis = 0)\n",
    "    z = np.divide(x,row_sum)\n",
    "    return z"
   ]
  },
  {
   "cell_type": "code",
   "execution_count": 12,
   "metadata": {
    "collapsed": true
   },
   "outputs": [],
   "source": [
    "def KNN(dat,K):\n",
    "    x = dist.cdist(dat,dat)\n",
    "    z = np.zeros((dat.shape[0],K))\n",
    "    #print(z)\n",
    "    for i in range(0,len(dat)):\n",
    "        y = np.argsort(x[i,:])\n",
    "        #print(i)\n",
    "        #print(y[1:K+1])\n",
    "        z[i] = y[1:K+1]\n",
    "    return z"
   ]
  },
  {
   "cell_type": "code",
   "execution_count": 74,
   "metadata": {
    "collapsed": false
   },
   "outputs": [],
   "source": [
    "def markov_RMSE(dat1,dat2,len1,len2):\n",
    "    a = markov_matrix(dat1,len1)\n",
    "    b = markov_matrix(dat2,len2)\n",
    "    deviation = a - b\n",
    "    RMSE = np.mean(np.linalg.norm(deviation,axis = 0))\n",
    "    MSTD = np.std(np.linalg.norm(deviation,axis = 0))\n",
    "    return RMSE, MSTD"
   ]
  },
  {
   "cell_type": "code",
   "execution_count": 31,
   "metadata": {
    "collapsed": false
   },
   "outputs": [],
   "source": [
    "def jaccard_score(dat1,dat2,K):\n",
    "    a = KNN(dat1,K)\n",
    "    b = KNN(dat2,K)\n",
    "    jaccard = np.zeros(len(dat1))\n",
    "    for i in range(0,len(a)):\n",
    "        #print(a[i])\n",
    "        #print(b[i])\n",
    "        intersect = len(np.intersect1d(a[i],b[i]))\n",
    "        union = len(np.union1d(a[i],b[i]))\n",
    "        jaccard[i] = float(intersect)/float(union)\n",
    "        #print(jaccard)\n",
    "    return jaccard"
   ]
  },
  {
   "cell_type": "markdown",
   "metadata": {},
   "source": [
    "### Mixing"
   ]
  },
  {
   "cell_type": "markdown",
   "metadata": {
    "collapsed": false
   },
   "source": [
    "kBET in R"
   ]
  },
  {
   "cell_type": "markdown",
   "metadata": {},
   "source": [
    "Cross Entropy - Fang Wang and Ken Chen"
   ]
  },
  {
   "cell_type": "markdown",
   "metadata": {
    "collapsed": false
   },
   "source": [
    "## Evaluation"
   ]
  },
  {
   "cell_type": "code",
   "execution_count": 55,
   "metadata": {
    "collapsed": false
   },
   "outputs": [
    {
     "name": "stdout",
     "output_type": "stream",
     "text": [
      "658\n"
     ]
    }
   ],
   "source": [
    "# Subsample data\n",
    "sample = range(0,ctrl.shape[1],10)\n",
    "print(len(sample))"
   ]
  },
  {
   "cell_type": "markdown",
   "metadata": {
    "collapsed": true
   },
   "source": [
    "#### KNN Evaluation"
   ]
  },
  {
   "cell_type": "code",
   "execution_count": 66,
   "metadata": {
    "collapsed": false
   },
   "outputs": [
    {
     "name": "stdout",
     "output_type": "stream",
     "text": [
      "3\n",
      "5\n",
      "10\n",
      "25\n",
      "50\n"
     ]
    }
   ],
   "source": [
    "ks = [3,5,10,25,50]\n",
    "jacs = np.zeros(len(ks))\n",
    "jacs_var = np.zeros(len(ks))\n",
    "for i in range(0,len(ks)):\n",
    "    print(ks[i])\n",
    "    #print(np.mean(jaccard_score(ctrl_pre.T[sample],ctrl.T[sample],ks[i])))\n",
    "    jacs[i] = np.mean(jaccard_score(ctrl_pre.T[sample],ctrl.T[sample],ks[i]))"
   ]
  },
  {
   "cell_type": "code",
   "execution_count": null,
   "metadata": {
    "collapsed": false
   },
   "outputs": [],
   "source": []
  },
  {
   "cell_type": "code",
   "execution_count": 51,
   "metadata": {
    "collapsed": false
   },
   "outputs": [],
   "source": [
    "import matplotlib.pyplot as plt"
   ]
  },
  {
   "cell_type": "code",
   "execution_count": 92,
   "metadata": {
    "collapsed": false
   },
   "outputs": [
    {
     "data": {
      "image/png": "[encoded data removed]",
      "text/plain": [
       "<matplotlib.figure.Figure at 0x120dca890>"
      ]
     },
     "metadata": {},
     "output_type": "display_data"
    }
   ],
   "source": [
    "plt.style.use('ggplot')\n",
    "plt.errorbar(ks,jacs,jacs_var, linestyle='None', marker='^', elinewidth = 1.0)\n",
    "plt.xlabel('K')\n",
    "plt.ylabel('Average Jaccard Score')\n",
    "plt.show()"
   ]
  },
  {
   "cell_type": "markdown",
   "metadata": {},
   "source": [
    "#### Diffusion Distance/Markov Transition Matrix Evaluation"
   ]
  },
  {
   "cell_type": "code",
   "execution_count": 75,
   "metadata": {
    "collapsed": false
   },
   "outputs": [
    {
     "name": "stdout",
     "output_type": "stream",
     "text": [
      "0.1\n"
     ]
    },
    {
     "name": "stderr",
     "output_type": "stream",
     "text": [
      "/Users/architverma/anaconda/lib/python2.7/site-packages/ipykernel/__main__.py:3: RuntimeWarning: overflow encountered in exp\n",
      "  app.launch_new_instance()\n"
     ]
    },
    {
     "name": "stdout",
     "output_type": "stream",
     "text": [
      "0.5\n",
      "1.0\n",
      "10.0\n"
     ]
    }
   ],
   "source": [
    "ls = [0.1,0.5,1.0,10.0]\n",
    "mars = np.zeros(len(ls))\n",
    "mars_var = np.zeros(len(ls))\n",
    "for i in range(0,len(ls)):\n",
    "    print(ls[i])\n",
    "    [mars[i], mars_var[i]] = markov_RMSE(ctrl_pre.T[sample],ctrl.T[sample],ls[i],ls[i])\n",
    "    #print(np.mean(jaccard_score(ctrl_pre.T[sample],ctrl.T[sample],ks[i])))\n",
    "    #mars[i] = np.mean(t)\n",
    "    #mars_var[i] = np.std(t)"
   ]
  },
  {
   "cell_type": "code",
   "execution_count": 93,
   "metadata": {
    "collapsed": false
   },
   "outputs": [
    {
     "data": {
      "image/png": "[encoded data removed]",
      "text/plain": [
       "<matplotlib.figure.Figure at 0x11f940890>"
      ]
     },
     "metadata": {},
     "output_type": "display_data"
    }
   ],
   "source": [
    "plt.errorbar(ls,mars,mars_var, linestyle='None', marker='^', elinewidth = 1.0)\n",
    "plt.xlabel('Diffusion Length')\n",
    "plt.ylabel('RMSE')\n",
    "plt.show()"
   ]
  },
  {
   "cell_type": "code",
   "execution_count": null,
   "metadata": {
    "collapsed": false
   },
   "outputs": [],
   "source": []
  },
  {
   "cell_type": "code",
   "execution_count": null,
   "metadata": {
    "collapsed": true
   },
   "outputs": [],
   "source": []
  }
 ],
 "metadata": {
  "kernelspec": {
   "display_name": "Python 2",
   "language": "python",
   "name": "python2"
  },
  "language_info": {
   "codemirror_mode": {
    "name": "ipython",
    "version": 2
   },
   "file_extension": ".py",
   "mimetype": "text/x-python",
   "name": "python",
   "nbconvert_exporter": "python",
   "pygments_lexer": "ipython2",
   "version": "2.7.13"
  }
 },
 "nbformat": 4,
 "nbformat_minor": 2
}
